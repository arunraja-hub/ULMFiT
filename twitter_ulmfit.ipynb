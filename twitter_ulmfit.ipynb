{
  "nbformat": 4,
  "nbformat_minor": 0,
  "metadata": {
    "kernelspec": {
      "name": "python3",
      "display_name": "Python 3"
    },
    "language_info": {
      "pygments_lexer": "ipython3",
      "nbconvert_exporter": "python",
      "version": "3.6.4",
      "file_extension": ".py",
      "codemirror_mode": {
        "name": "ipython",
        "version": 3
      },
      "name": "python",
      "mimetype": "text/x-python"
    },
    "colab": {
      "name": "twitter_ulmfit",
      "provenance": [],
      "collapsed_sections": [],
      "include_colab_link": true
    },
    "accelerator": "GPU"
  },
  "cells": [
    {
      "cell_type": "markdown",
      "metadata": {
        "id": "view-in-github",
        "colab_type": "text"
      },
      "source": [
        "<a href=\"https://colab.research.google.com/github/deeplearner2019/ULMFiT/blob/master/twitter_ulmfit.ipynb\" target=\"_parent\"><img src=\"https://colab.research.google.com/assets/colab-badge.svg\" alt=\"Open In Colab\"/></a>"
      ]
    },
    {
      "cell_type": "markdown",
      "metadata": {
        "id": "JGFIwa0mi8Wu",
        "colab_type": "text"
      },
      "source": [
        "## ** Twitter US Airline Sentiment Analysis Using ULMFiT**\n",
        "###### *by Arun Raja*\n",
        "---\n",
        "\n",
        "\n"
      ]
    },
    {
      "cell_type": "markdown",
      "metadata": {
        "id": "C83H3wI2i8Ww",
        "colab_type": "text"
      },
      "source": [
        "### *Section 1. Introduction to Transfer Learning and ULMFiT*\n",
        "\n",
        "> Transfer learning has created significant impact on Computer Vision but not so on Natural Language Processing. First of all, transfer learning models require large amounts of data and takes days to converge. For instance, Dai and Le (2015) fine-tuned the language model but required millions of documents of the specific domain to achieve good performance, which is not desirable for practical purposes. The problem is not with the language modelling fine-tuning but how to train them effectively such that a small amount of data is required to achieve the same performance as with large data corpora. On the other hand, training on a small dataset can cause the language model to overfit severely. Thus, a fine-tuning method is required to effectively train using a small amount of data and yet prevent severe overfitting. Therefore, Howard and Ruder (2018) came up with: Universal Language Model Fine-tuning (ULMFiT)"
      ]
    },
    {
      "cell_type": "markdown",
      "metadata": {
        "id": "4BCwdglli8Wx",
        "colab_type": "text"
      },
      "source": [
        "###*Section 2. The Process of ULMFiT*\n",
        "\n",
        "> ULMFiT consists of the following 3 stages:\n",
        "> 1. LM pre-training: The language model (LM) is trained on general-domain corpus to capture general features of languages in its layers. For instance, Wikitext-103 corpus was used by Howard and Ruder (2018) to pretrain the LM for English.\n",
        "> 2. LM finetuning: The entire LM is fine tuned on the target data using discriminative fine tuning and slanted triangular learning rates to learn task specific classifer tuning.\n",
        ">     * Discriminative finetuning: The different layers of the LM capture different types of information , thus they should be finetuned to different extents. In order to allow each layer to capture information to different extents, we manipulate the learning rates of different layers via discriminative finetuning. \n",
        ">     In the case of stochastic gradient descent, where we decide on one learning rate for all layers, the model's parameters θ at time step t updates as follows:\n",
        "> ![sgd_formula](https://i.paste.pics/77J2C.png) \n",
        "> \n",
        ">     In the case of discriminative finetuning, we would need to adjust the parameters at each layer of the neural network. thus we consider θ= {θ_1,...θ_l} where θ_l refers to the parameter of the l=th layer. In the same way, we have a learning rate corresponding to each of the L layers: {η_1, . . . , η_l} where η_l is the learning rate of the l-th layer. Thus the stochastic gradient update in the context of discriminative finetuning is:\n",
        "> ![](https://i.paste.pics/77J31.png)\n",
        "\n",
        "> Through experimentation, Howard and Ruder found that discriminative finetuning works well when the learning rate of the final layer ,L, was chosen first and the learning rate of the other layers were updated as follows: **η_l−1 =η_l/2.6 **\n",
        ">     * Slanted triangular learning rates (SLTR) : To allow the LM to adapt its parameters to task-specific features, it is important to quickly converge. Thus, SLTR is used as it first linearly increases and then decreases linearly as shown below:\n",
        "> ![](https://i.paste.pics/77J55.png)    \n",
        "> \n",
        "> 3. Finally, Classifier finetuning: finetuned language model is used on target task with gradual defreezing and STLR to preserve low-level representations and adjust high-level representations\n",
        ">     *     Gradual unfreezing: Instead of finetuning all layers at once, the last layer is 'unfreezed' and finetuned first as  it is considered to have the least general knowledge (Yosinski et al., 2014). How the gradual unfreezing proceeds is as follows:\n",
        "\n",
        ">             a) the last layer is unfrozen and finetuned for one epoch\n",
        "\n",
        ">             b)the second last layer is unfrozen and both (last and second last layers) are finetuned for one epoch\n",
        "\n",
        ">             c)Once all the layers have been unfrozen, the entire network is finetuned till convergence is achieved.\n",
        ">         \n",
        "> To wrap-up this explanation on the ULMFiT process, the newly proposed techniques of discriminative finetuning, slanted triangular learning rates and gradual unfreezing work in synergy to enable ULMFiT to perform well on different datasets.\n",
        "> \n",
        "\n",
        "    \n"
      ]
    },
    {
      "cell_type": "markdown",
      "metadata": {
        "id": "S_X1AT1Oi8Wx",
        "colab_type": "text"
      },
      "source": [
        "### *Section 3. Task and EDA*\n",
        "\n",
        "> Our aim is to classify tweets about the major American airlines into 3 classes, namely, neutral, negative and positive, using ULMFiT.\n",
        "> The dataset contains 14427 labelled tweets.\n",
        "> We will be carrying out an exploratory data analysis or EDA on the dataset to understand more about the different tweets about the airlines-"
      ]
    },
    {
      "cell_type": "code",
      "metadata": {
        "_uuid": "d629ff2d2480ee46fbb7e2d37f6b5fab8052498a",
        "_cell_guid": "79c7e3d0-c299-4dcb-8224-4455121ee9b0",
        "trusted": true,
        "id": "NDz4Hhu_i8Wy",
        "colab_type": "code",
        "colab": {}
      },
      "source": [
        "#importing the following libraries-\n",
        "import numpy as np\n",
        "import pandas as pd\n",
        "import seaborn as sns\n",
        "import re\n",
        "from pathlib import Path\n",
        "from sklearn.model_selection import train_test_split\n",
        "from fastai.text import *\n",
        "# we will be using the fast.ai library to build the ULMFiT model as there are specific methods in the fast.ai library for the different techniques involved in ULMFiT"
      ],
      "execution_count": 0,
      "outputs": []
    },
    {
      "cell_type": "code",
      "metadata": {
        "id": "vVEAX6a9jCI_",
        "colab_type": "code",
        "outputId": "73f4f9aa-6015-4497-a1b9-abe791b837d4",
        "colab": {
          "base_uri": "https://localhost:8080/",
          "height": 35
        }
      },
      "source": [
        "#loading data from GDrive\n",
        "from google.colab import drive\n",
        "drive.mount('/content/gdrive')\n"
      ],
      "execution_count": 0,
      "outputs": [
        {
          "output_type": "stream",
          "text": [
            "Drive already mounted at /content/gdrive; to attempt to forcibly remount, call drive.mount(\"/content/gdrive\", force_remount=True).\n"
          ],
          "name": "stdout"
        }
      ]
    },
    {
      "cell_type": "code",
      "metadata": {
        "trusted": true,
        "id": "TvXCMyzdi8W1",
        "colab_type": "code",
        "outputId": "8ff3e001-eed8-43d9-a321-7dbfa2653018",
        "colab": {
          "base_uri": "https://localhost:8080/",
          "height": 35
        }
      },
      "source": [
        "#loading data from folder\n",
        "\n",
        "data_path=Path('/content/gdrive/My Drive/fellowship.ai')\n",
        "input_name='Tweets.csv'\n",
        "input_path=data_path/input_name\n",
        "df_input=pd.read_csv(input_path)\n",
        "print(\"The shape of the input csv file containing all tweets is\",df_input.shape)\n"
      ],
      "execution_count": 0,
      "outputs": [
        {
          "output_type": "stream",
          "text": [
            "The shape of the input csv file containing all tweets is (14640, 15)\n"
          ],
          "name": "stdout"
        }
      ]
    },
    {
      "cell_type": "code",
      "metadata": {
        "trusted": true,
        "id": "fGAMXf_Ti8W2",
        "colab_type": "code",
        "outputId": "b7858a0a-a664-42d6-8be6-ccd41fe716cc",
        "colab": {
          "base_uri": "https://localhost:8080/",
          "height": 858
        }
      },
      "source": [
        "# some example of entries in the input data table\n",
        "df_input.sample(10,random_state=0)"
      ],
      "execution_count": 0,
      "outputs": [
        {
          "output_type": "execute_result",
          "data": {
            "text/html": [
              "<div>\n",
              "<style scoped>\n",
              "    .dataframe tbody tr th:only-of-type {\n",
              "        vertical-align: middle;\n",
              "    }\n",
              "\n",
              "    .dataframe tbody tr th {\n",
              "        vertical-align: top;\n",
              "    }\n",
              "\n",
              "    .dataframe thead th {\n",
              "        text-align: right;\n",
              "    }\n",
              "</style>\n",
              "<table border=\"1\" class=\"dataframe\">\n",
              "  <thead>\n",
              "    <tr style=\"text-align: right;\">\n",
              "      <th></th>\n",
              "      <th>tweet_id</th>\n",
              "      <th>airline_sentiment</th>\n",
              "      <th>airline_sentiment_confidence</th>\n",
              "      <th>negativereason</th>\n",
              "      <th>negativereason_confidence</th>\n",
              "      <th>airline</th>\n",
              "      <th>airline_sentiment_gold</th>\n",
              "      <th>name</th>\n",
              "      <th>negativereason_gold</th>\n",
              "      <th>retweet_count</th>\n",
              "      <th>text</th>\n",
              "      <th>tweet_coord</th>\n",
              "      <th>tweet_created</th>\n",
              "      <th>tweet_location</th>\n",
              "      <th>user_timezone</th>\n",
              "    </tr>\n",
              "  </thead>\n",
              "  <tbody>\n",
              "    <tr>\n",
              "      <th>13983</th>\n",
              "      <td>5.696820e+17</td>\n",
              "      <td>negative</td>\n",
              "      <td>0.6163</td>\n",
              "      <td>Late Flight</td>\n",
              "      <td>0.6163</td>\n",
              "      <td>American</td>\n",
              "      <td>NaN</td>\n",
              "      <td>zsalim03</td>\n",
              "      <td>NaN</td>\n",
              "      <td>0</td>\n",
              "      <td>@AmericanAir In car gng to DFW. Pulled over 1h...</td>\n",
              "      <td>NaN</td>\n",
              "      <td>2/22/2015 18:15</td>\n",
              "      <td>Texas</td>\n",
              "      <td>Central Time (US &amp; Canada)</td>\n",
              "    </tr>\n",
              "    <tr>\n",
              "      <th>14484</th>\n",
              "      <td>5.696080e+17</td>\n",
              "      <td>negative</td>\n",
              "      <td>0.7039</td>\n",
              "      <td>Bad Flight</td>\n",
              "      <td>0.3587</td>\n",
              "      <td>American</td>\n",
              "      <td>NaN</td>\n",
              "      <td>sa_craig</td>\n",
              "      <td>NaN</td>\n",
              "      <td>0</td>\n",
              "      <td>@AmericanAir after all, the plane didn’t land ...</td>\n",
              "      <td>NaN</td>\n",
              "      <td>2/22/2015 13:22</td>\n",
              "      <td>College Station, TX</td>\n",
              "      <td>Central Time (US &amp; Canada)</td>\n",
              "    </tr>\n",
              "    <tr>\n",
              "      <th>6403</th>\n",
              "      <td>5.678790e+17</td>\n",
              "      <td>negative</td>\n",
              "      <td>1.0000</td>\n",
              "      <td>Cancelled Flight</td>\n",
              "      <td>1.0000</td>\n",
              "      <td>Southwest</td>\n",
              "      <td>NaN</td>\n",
              "      <td>DanaChristos</td>\n",
              "      <td>NaN</td>\n",
              "      <td>1</td>\n",
              "      <td>@SouthwestAir can't believe how many paying cu...</td>\n",
              "      <td>NaN</td>\n",
              "      <td>2/17/2015 18:52</td>\n",
              "      <td>CT</td>\n",
              "      <td>Eastern Time (US &amp; Canada)</td>\n",
              "    </tr>\n",
              "    <tr>\n",
              "      <th>9653</th>\n",
              "      <td>5.697580e+17</td>\n",
              "      <td>negative</td>\n",
              "      <td>1.0000</td>\n",
              "      <td>Can't Tell</td>\n",
              "      <td>1.0000</td>\n",
              "      <td>US Airways</td>\n",
              "      <td>NaN</td>\n",
              "      <td>rossj987</td>\n",
              "      <td>NaN</td>\n",
              "      <td>0</td>\n",
              "      <td>@USAirways I can legitimately say that I would...</td>\n",
              "      <td>NaN</td>\n",
              "      <td>2/22/2015 23:16</td>\n",
              "      <td>Washington, D.C.</td>\n",
              "      <td>Eastern Time (US &amp; Canada)</td>\n",
              "    </tr>\n",
              "    <tr>\n",
              "      <th>13268</th>\n",
              "      <td>5.699010e+17</td>\n",
              "      <td>negative</td>\n",
              "      <td>1.0000</td>\n",
              "      <td>Customer Service Issue</td>\n",
              "      <td>1.0000</td>\n",
              "      <td>American</td>\n",
              "      <td>NaN</td>\n",
              "      <td>tranpham18</td>\n",
              "      <td>NaN</td>\n",
              "      <td>0</td>\n",
              "      <td>@AmericanAir still no response from AA. great ...</td>\n",
              "      <td>NaN</td>\n",
              "      <td>2/23/2015 8:44</td>\n",
              "      <td>New York City</td>\n",
              "      <td>Eastern Time (US &amp; Canada)</td>\n",
              "    </tr>\n",
              "    <tr>\n",
              "      <th>2384</th>\n",
              "      <td>5.692350e+17</td>\n",
              "      <td>neutral</td>\n",
              "      <td>1.0000</td>\n",
              "      <td>NaN</td>\n",
              "      <td>NaN</td>\n",
              "      <td>United</td>\n",
              "      <td>NaN</td>\n",
              "      <td>setfive</td>\n",
              "      <td>NaN</td>\n",
              "      <td>0</td>\n",
              "      <td>@united we have developers flying down tmrw mo...</td>\n",
              "      <td>NaN</td>\n",
              "      <td>2/21/2015 12:39</td>\n",
              "      <td>Central Sq. Cambridge, MA</td>\n",
              "      <td>Eastern Time (US &amp; Canada)</td>\n",
              "    </tr>\n",
              "    <tr>\n",
              "      <th>9613</th>\n",
              "      <td>5.698240e+17</td>\n",
              "      <td>negative</td>\n",
              "      <td>0.6699</td>\n",
              "      <td>Customer Service Issue</td>\n",
              "      <td>0.3411</td>\n",
              "      <td>US Airways</td>\n",
              "      <td>NaN</td>\n",
              "      <td>earthXplorer</td>\n",
              "      <td>NaN</td>\n",
              "      <td>1</td>\n",
              "      <td>@USAirways hello??? Anyone there?</td>\n",
              "      <td>NaN</td>\n",
              "      <td>2/23/2015 3:41</td>\n",
              "      <td>Miami, Fl. USA</td>\n",
              "      <td>Eastern Time (US &amp; Canada)</td>\n",
              "    </tr>\n",
              "    <tr>\n",
              "      <th>11612</th>\n",
              "      <td>5.678800e+17</td>\n",
              "      <td>negative</td>\n",
              "      <td>0.7072</td>\n",
              "      <td>Late Flight</td>\n",
              "      <td>0.7072</td>\n",
              "      <td>US Airways</td>\n",
              "      <td>NaN</td>\n",
              "      <td>AliNHamdani</td>\n",
              "      <td>NaN</td>\n",
              "      <td>0</td>\n",
              "      <td>@USAirways @husainhaqqani Mr. Husain u shld pr...</td>\n",
              "      <td>NaN</td>\n",
              "      <td>2/17/2015 18:56</td>\n",
              "      <td>Islamabad</td>\n",
              "      <td>Islamabad</td>\n",
              "    </tr>\n",
              "    <tr>\n",
              "      <th>9252</th>\n",
              "      <td>5.700220e+17</td>\n",
              "      <td>negative</td>\n",
              "      <td>1.0000</td>\n",
              "      <td>Late Flight</td>\n",
              "      <td>1.0000</td>\n",
              "      <td>US Airways</td>\n",
              "      <td>NaN</td>\n",
              "      <td>BradleyPollock</td>\n",
              "      <td>NaN</td>\n",
              "      <td>0</td>\n",
              "      <td>@USAirways not likely, flightaware says plane ...</td>\n",
              "      <td>NaN</td>\n",
              "      <td>2/23/2015 16:46</td>\n",
              "      <td>NaN</td>\n",
              "      <td>NaN</td>\n",
              "    </tr>\n",
              "    <tr>\n",
              "      <th>13923</th>\n",
              "      <td>5.696910e+17</td>\n",
              "      <td>negative</td>\n",
              "      <td>1.0000</td>\n",
              "      <td>Customer Service Issue</td>\n",
              "      <td>1.0000</td>\n",
              "      <td>American</td>\n",
              "      <td>NaN</td>\n",
              "      <td>kaps12</td>\n",
              "      <td>NaN</td>\n",
              "      <td>0</td>\n",
              "      <td>@AmericanAir they don't even give an option to...</td>\n",
              "      <td>NaN</td>\n",
              "      <td>2/22/2015 18:50</td>\n",
              "      <td>NaN</td>\n",
              "      <td>NaN</td>\n",
              "    </tr>\n",
              "  </tbody>\n",
              "</table>\n",
              "</div>"
            ],
            "text/plain": [
              "           tweet_id  ...               user_timezone\n",
              "13983  5.696820e+17  ...  Central Time (US & Canada)\n",
              "14484  5.696080e+17  ...  Central Time (US & Canada)\n",
              "6403   5.678790e+17  ...  Eastern Time (US & Canada)\n",
              "9653   5.697580e+17  ...  Eastern Time (US & Canada)\n",
              "13268  5.699010e+17  ...  Eastern Time (US & Canada)\n",
              "2384   5.692350e+17  ...  Eastern Time (US & Canada)\n",
              "9613   5.698240e+17  ...  Eastern Time (US & Canada)\n",
              "11612  5.678800e+17  ...                   Islamabad\n",
              "9252   5.700220e+17  ...                         NaN\n",
              "13923  5.696910e+17  ...                         NaN\n",
              "\n",
              "[10 rows x 15 columns]"
            ]
          },
          "metadata": {
            "tags": []
          },
          "execution_count": 70
        }
      ]
    },
    {
      "cell_type": "code",
      "metadata": {
        "trusted": true,
        "id": "lTQfLic7i8W4",
        "colab_type": "code",
        "outputId": "0e5a10db-3650-4e60-883b-1abeb23ae842",
        "colab": {
          "base_uri": "https://localhost:8080/",
          "height": 357
        }
      },
      "source": [
        "# we only require rge airline_sentiment and text row for our input and targetted output, thus we select just those columns\n",
        "df_input_crop=df_input[['airline_sentiment','text']]\n",
        "df_input_crop.sample(10)"
      ],
      "execution_count": 0,
      "outputs": [
        {
          "output_type": "execute_result",
          "data": {
            "text/html": [
              "<div>\n",
              "<style scoped>\n",
              "    .dataframe tbody tr th:only-of-type {\n",
              "        vertical-align: middle;\n",
              "    }\n",
              "\n",
              "    .dataframe tbody tr th {\n",
              "        vertical-align: top;\n",
              "    }\n",
              "\n",
              "    .dataframe thead th {\n",
              "        text-align: right;\n",
              "    }\n",
              "</style>\n",
              "<table border=\"1\" class=\"dataframe\">\n",
              "  <thead>\n",
              "    <tr style=\"text-align: right;\">\n",
              "      <th></th>\n",
              "      <th>airline_sentiment</th>\n",
              "      <th>text</th>\n",
              "    </tr>\n",
              "  </thead>\n",
              "  <tbody>\n",
              "    <tr>\n",
              "      <th>4794</th>\n",
              "      <td>positive</td>\n",
              "      <td>@SouthwestAir you're my early frontrunner for ...</td>\n",
              "    </tr>\n",
              "    <tr>\n",
              "      <th>10480</th>\n",
              "      <td>negative</td>\n",
              "      <td>@USAirways how is it that my flt to EWR was Ca...</td>\n",
              "    </tr>\n",
              "    <tr>\n",
              "      <th>8067</th>\n",
              "      <td>negative</td>\n",
              "      <td>@JetBlue what is going on with your BDL to DCA...</td>\n",
              "    </tr>\n",
              "    <tr>\n",
              "      <th>8880</th>\n",
              "      <td>neutral</td>\n",
              "      <td>@JetBlue do they have to depart from Washingto...</td>\n",
              "    </tr>\n",
              "    <tr>\n",
              "      <th>8292</th>\n",
              "      <td>negative</td>\n",
              "      <td>@JetBlue I can probably find some of them. Are...</td>\n",
              "    </tr>\n",
              "    <tr>\n",
              "      <th>927</th>\n",
              "      <td>negative</td>\n",
              "      <td>@united still waiting to hear back. My wallet ...</td>\n",
              "    </tr>\n",
              "    <tr>\n",
              "      <th>3165</th>\n",
              "      <td>negative</td>\n",
              "      <td>@united Yes my flight was rebooked. I'm just l...</td>\n",
              "    </tr>\n",
              "    <tr>\n",
              "      <th>7894</th>\n",
              "      <td>neutral</td>\n",
              "      <td>@JetBlue Thank you ! What about Paris ? Could ...</td>\n",
              "    </tr>\n",
              "    <tr>\n",
              "      <th>2818</th>\n",
              "      <td>negative</td>\n",
              "      <td>@united not 100% sure, however my ticket inclu...</td>\n",
              "    </tr>\n",
              "    <tr>\n",
              "      <th>9145</th>\n",
              "      <td>positive</td>\n",
              "      <td>@usairways great crew for flight 504 PHX to YV...</td>\n",
              "    </tr>\n",
              "  </tbody>\n",
              "</table>\n",
              "</div>"
            ],
            "text/plain": [
              "      airline_sentiment                                               text\n",
              "4794           positive  @SouthwestAir you're my early frontrunner for ...\n",
              "10480          negative  @USAirways how is it that my flt to EWR was Ca...\n",
              "8067           negative  @JetBlue what is going on with your BDL to DCA...\n",
              "8880            neutral  @JetBlue do they have to depart from Washingto...\n",
              "8292           negative  @JetBlue I can probably find some of them. Are...\n",
              "927            negative  @united still waiting to hear back. My wallet ...\n",
              "3165           negative  @united Yes my flight was rebooked. I'm just l...\n",
              "7894            neutral  @JetBlue Thank you ! What about Paris ? Could ...\n",
              "2818           negative  @united not 100% sure, however my ticket inclu...\n",
              "9145           positive  @usairways great crew for flight 504 PHX to YV..."
            ]
          },
          "metadata": {
            "tags": []
          },
          "execution_count": 71
        }
      ]
    },
    {
      "cell_type": "code",
      "metadata": {
        "trusted": true,
        "id": "F9ekCDWOi8W6",
        "colab_type": "code",
        "outputId": "f593db9d-2358-4a16-b825-f513a3bd0899",
        "colab": {
          "base_uri": "https://localhost:8080/",
          "height": 105
        }
      },
      "source": [
        "#before, we start dividing the dataset into train/test/validation sets, we need to know whether the data is class imbalanced\n",
        "#class imbalance can occur based on the sentiment class or airline class-\n",
        "\n",
        "print('The distribution of data according to the different sentiment classes is:\\n',df_input_crop['airline_sentiment'].value_counts())\n"
      ],
      "execution_count": 0,
      "outputs": [
        {
          "output_type": "stream",
          "text": [
            "The distribution of data according to the different sentiment classes is:\n",
            " negative    9178\n",
            "neutral     3099\n",
            "positive    2363\n",
            "Name: airline_sentiment, dtype: int64\n"
          ],
          "name": "stdout"
        }
      ]
    },
    {
      "cell_type": "code",
      "metadata": {
        "trusted": true,
        "id": "Oh45HB17i8W9",
        "colab_type": "code",
        "outputId": "dcc6f523-12f6-4cb9-823c-f969a56e6235",
        "colab": {
          "base_uri": "https://localhost:8080/",
          "height": 158
        }
      },
      "source": [
        "print('The distribution of data according to the different sentiment classes is:\\n',df_input['airline'].value_counts())\n"
      ],
      "execution_count": 0,
      "outputs": [
        {
          "output_type": "stream",
          "text": [
            "The distribution of data according to the different sentiment classes is:\n",
            " United            3822\n",
            "US Airways        2913\n",
            "American          2759\n",
            "Southwest         2420\n",
            "Delta             2222\n",
            "Virgin America     504\n",
            "Name: airline, dtype: int64\n"
          ],
          "name": "stdout"
        }
      ]
    },
    {
      "cell_type": "code",
      "metadata": {
        "trusted": true,
        "id": "u4zvs9Kyi8W_",
        "colab_type": "code",
        "outputId": "f415ba15-3be9-4b80-e8a1-2ae491fbe54f",
        "colab": {
          "base_uri": "https://localhost:8080/",
          "height": 297
        }
      },
      "source": [
        "# to visualise the class imbalance due to both sentiment and airline class, we will use bar chart-\n",
        "sns.countplot(y='airline', hue='airline_sentiment', data=df_input)"
      ],
      "execution_count": 0,
      "outputs": [
        {
          "output_type": "execute_result",
          "data": {
            "text/plain": [
              "<matplotlib.axes._subplots.AxesSubplot at 0x7fa3622de320>"
            ]
          },
          "metadata": {
            "tags": []
          },
          "execution_count": 74
        },
        {
          "output_type": "display_data",
          "data": {
            "image/png": "[encoded data removed]",
            "text/plain": [
              "<Figure size 432x288 with 1 Axes>"
            ]
          },
          "metadata": {
            "tags": []
          }
        }
      ]
    },
    {
      "cell_type": "markdown",
      "metadata": {
        "id": "eXdCmVsBi8XB",
        "colab_type": "text"
      },
      "source": [
        "##### Section 3.1. The Problem of Class Imbalance\n",
        "\n",
        "> From our EDA, we have discovered that there is a class imbalance with respect to the different airlines. Thus, there is a possibility that the model associates a certain sentiment with a certain airline. However, that is not our aim. Our aim is for the model to associate and map a certain tweet to a certain sentiment. Therefore, I felt that all airline names which appear after the '@' symbol should be replaced with '@airline'. That way we get rid of the airline class imbalance issue. "
      ]
    },
    {
      "cell_type": "code",
      "metadata": {
        "trusted": true,
        "id": "z1XFL6Ksi8XC",
        "colab_type": "code",
        "outputId": "a4e30867-132a-4cbe-ada3-2724c2c8e0d2",
        "colab": {
          "base_uri": "https://localhost:8080/",
          "height": 316
        }
      },
      "source": [
        "\n",
        "\n",
        "\n",
        "\n",
        "regex=r\"@(VirginAmerica|united|SouthwestAir|Delta|USAirways|AmericanAir|JetBlue)\"\n",
        "def replace(text):\n",
        "    return re.sub(regex, '@airline',text, flags=re.IGNORECASE)\n",
        "df_input_crop['text']=df_input_crop['text'].apply(replace)\n",
        "df_input_crop['text'].sample(10)\n",
        "\n",
        "# now all the airlines names have been replaced with the word 'airline'\n",
        "\n",
        "\n",
        "\n"
      ],
      "execution_count": 0,
      "outputs": [
        {
          "output_type": "stream",
          "text": [
            "/usr/local/lib/python3.6/dist-packages/ipykernel_launcher.py:8: SettingWithCopyWarning: \n",
            "A value is trying to be set on a copy of a slice from a DataFrame.\n",
            "Try using .loc[row_indexer,col_indexer] = value instead\n",
            "\n",
            "See the caveats in the documentation: http://pandas.pydata.org/pandas-docs/stable/user_guide/indexing.html#returning-a-view-versus-a-copy\n",
            "  \n"
          ],
          "name": "stderr"
        },
        {
          "output_type": "execute_result",
          "data": {
            "text/plain": [
              "13298    @airline I tried already and I am on the waiti...\n",
              "10132    @airline @airline my friends are stranded at K...\n",
              "1913     @airline. If you show available seats, you nee...\n",
              "4725     @airline : thanks.are flights operating now or...\n",
              "1388     @airline after 2 days - 1 flight Cancelled Fli...\n",
              "4540     @airline if I am enrolled in the ATL companion...\n",
              "3135     @airline WTF!?!? Delay after delay. 15 hours Y...\n",
              "11246    @airline new problem...had wrong last name on ...\n",
              "8184     @airline Great Thank you, lets hope so! Could ...\n",
              "4783     @airline you got me home over an hour and a ha...\n",
              "Name: text, dtype: object"
            ]
          },
          "metadata": {
            "tags": []
          },
          "execution_count": 75
        }
      ]
    },
    {
      "cell_type": "markdown",
      "metadata": {
        "id": "75QLr6ONi8XE",
        "colab_type": "text"
      },
      "source": [
        "### *Section 4. Setting up Data*\n",
        "\n",
        "> Now we will be splitting the dataset into training(80%) and validation(20%) sets"
      ]
    },
    {
      "cell_type": "code",
      "metadata": {
        "trusted": true,
        "id": "H5zQrUG8i8XE",
        "colab_type": "code",
        "colab": {}
      },
      "source": [
        "train_data,valid_data=train_test_split(df_input_crop, test_size=0.2)"
      ],
      "execution_count": 0,
      "outputs": []
    },
    {
      "cell_type": "markdown",
      "metadata": {
        "id": "cNF7jvBui8XG",
        "colab_type": "text"
      },
      "source": [
        "### *Section 5. ULMFiT model development*\n",
        "\n",
        "#####Section 5.1. ULMFiT step 1: LM Pretraining\n",
        "\n",
        ">In this language model pretraining step, we capture the general features of the language.\n",
        ">First, we will be standardising the momentum and weight decay values for this entire model development process.\n",
        "\n",
        "> moms=(0.8,0.7)\n",
        "\n",
        "> wd=0.1\n",
        "\n",
        ">Weight decay refers to the value by which the weights are multiplied by after each update. This prevents weights from growing too large.\n",
        ">Simply put, momentum accumulates the gradient of the previous steps to determine the direction to go and allows us to quickly converge.\n"
      ]
    },
    {
      "cell_type": "code",
      "metadata": {
        "trusted": true,
        "id": "yN35Cni9i8XH",
        "colab_type": "code",
        "colab": {}
      },
      "source": [
        "moms=(0.8,0.7)\n",
        "wd=0.1"
      ],
      "execution_count": 0,
      "outputs": []
    },
    {
      "cell_type": "code",
      "metadata": {
        "trusted": true,
        "id": "0Hk3bC2mi8XI",
        "colab_type": "code",
        "outputId": "9546b5f9-2d20-4fac-897f-a8b873f79c01",
        "colab": {
          "base_uri": "https://localhost:8080/",
          "height": 35
        }
      },
      "source": [
        "#fast.ai needs a path to work on\n",
        "fastai_path=Path('./').resolve()\n",
        "fastai_path"
      ],
      "execution_count": 0,
      "outputs": [
        {
          "output_type": "execute_result",
          "data": {
            "text/plain": [
              "PosixPath('/content')"
            ]
          },
          "metadata": {
            "tags": []
          },
          "execution_count": 78
        }
      ]
    },
    {
      "cell_type": "code",
      "metadata": {
        "trusted": true,
        "id": "A56LXkMvi8XK",
        "colab_type": "code",
        "colab": {}
      },
      "source": [
        "# Here TextLMDataBunch formats the input data such that data can be called immediately for use in model training\n",
        "input_data=TextLMDataBunch.from_df(fastai_path, train_data,valid_data)\n",
        "# input_data.save('input_data.pkl')"
      ],
      "execution_count": 0,
      "outputs": []
    },
    {
      "cell_type": "code",
      "metadata": {
        "trusted": true,
        "id": "Mvd5c3L-i8XM",
        "colab_type": "code",
        "colab": {}
      },
      "source": [
        "#learn_process is our model \n",
        "learn_process=language_model_learner(input_data, AWD_LSTM, drop_mult=0.3)\n",
        "#learning process occurs using wikipedia data\n",
        "learn_process.freeze()"
      ],
      "execution_count": 0,
      "outputs": []
    },
    {
      "cell_type": "markdown",
      "metadata": {
        "id": "ViZgK9Cvi8XO",
        "colab_type": "text"
      },
      "source": [
        "##### Section 5.2. Finetuning LM\n",
        "\n",
        "> In this stage,the entire LM is fine tuned on the target data using discriminative fine tuning and slanted triangular learning rates to learn task specific classifer tuning.\n",
        "> We incorporate the use of 1cycle policy (Leslie Smith et. al.) to training our neural network quickly.\n",
        "> When we plot the losses across a range of learning rates, we will be picking the learning rate slight before the learning rate with minimum loss such that the loss is still improving.\n",
        "> Leslie Smith recommends that we change the learning curve such that it increases to the optimal learning rate (minimum loss) from a lower learning rate for half the iterations and gradual reduces back to the lower learning rate for the remaining half of the iterations.\n",
        "> As suggested in the fast.ai docs, we can let our maximum learning rate be tenth of the optimal learning rate as shown in the plot below."
      ]
    },
    {
      "cell_type": "code",
      "metadata": {
        "trusted": true,
        "id": "EJ7DYyvLi8XP",
        "colab_type": "code",
        "outputId": "295367d1-05ae-4194-a7d5-d2a2ac24a23b",
        "colab": {
          "base_uri": "https://localhost:8080/",
          "height": 297
        }
      },
      "source": [
        "#lr_find helps to fine a good learning rate\n",
        "learn_process.lr_find()\n",
        "#plots the losses over a range of learning rates\n",
        "learn_process.recorder.plot()"
      ],
      "execution_count": 0,
      "outputs": [
        {
          "output_type": "display_data",
          "data": {
            "text/html": [
              ""
            ],
            "text/plain": [
              "<IPython.core.display.HTML object>"
            ]
          },
          "metadata": {
            "tags": []
          }
        },
        {
          "output_type": "stream",
          "text": [
            "LR Finder is complete, type {learner_name}.recorder.plot() to see the graph.\n"
          ],
          "name": "stdout"
        },
        {
          "output_type": "display_data",
          "data": {
            "image/png": "[encoded data removed]",
            "text/plain": [
              "<Figure size 432x288 with 1 Axes>"
            ]
          },
          "metadata": {
            "tags": []
          }
        }
      ]
    },
    {
      "cell_type": "code",
      "metadata": {
        "trusted": true,
        "id": "0Lac0b5Hi8XR",
        "colab_type": "code",
        "outputId": "55059736-4dcb-458a-d104-22a5db8633b9",
        "colab": {
          "base_uri": "https://localhost:8080/",
          "height": 79
        }
      },
      "source": [
        "#from the plot above we can see that 5e-01 is the learning rate with minimum loss\n",
        "# we will take our max learning rate in 1cyle to be tenth of that: 5e-02\n",
        "learn_process.fit_one_cycle(1,5e-02,moms=moms,wd=wd)"
      ],
      "execution_count": 0,
      "outputs": [
        {
          "output_type": "display_data",
          "data": {
            "text/html": [
              "<table border=\"1\" class=\"dataframe\">\n",
              "  <thead>\n",
              "    <tr style=\"text-align: left;\">\n",
              "      <th>epoch</th>\n",
              "      <th>train_loss</th>\n",
              "      <th>valid_loss</th>\n",
              "      <th>accuracy</th>\n",
              "      <th>time</th>\n",
              "    </tr>\n",
              "  </thead>\n",
              "  <tbody>\n",
              "    <tr>\n",
              "      <td>0</td>\n",
              "      <td>4.344582</td>\n",
              "      <td>3.821296</td>\n",
              "      <td>0.295871</td>\n",
              "      <td>00:06</td>\n",
              "    </tr>\n",
              "  </tbody>\n",
              "</table>"
            ],
            "text/plain": [
              "<IPython.core.display.HTML object>"
            ]
          },
          "metadata": {
            "tags": []
          }
        }
      ]
    },
    {
      "cell_type": "code",
      "metadata": {
        "trusted": true,
        "id": "v9SXC0lVi8XT",
        "colab_type": "code",
        "colab": {}
      },
      "source": [
        "learn_process.unfreeze()"
      ],
      "execution_count": 0,
      "outputs": []
    },
    {
      "cell_type": "code",
      "metadata": {
        "trusted": true,
        "id": "07wXKkGgi8XU",
        "colab_type": "code",
        "colab": {}
      },
      "source": [
        "learn_process.save_encoder('encoder')"
      ],
      "execution_count": 0,
      "outputs": []
    },
    {
      "cell_type": "markdown",
      "metadata": {
        "id": "MSBdpIJ4i8XX",
        "colab_type": "text"
      },
      "source": [
        "##### Section 5.3 Classifier finetuning\n",
        "\n",
        "> The finetuned language model is used on target task with gradual defreezing and STLR to preserve low-level representations and adjust high-level representations.\n",
        "> In this final stage, we further divide the dataset into training, validation and testing datasets\n",
        "> The breakdown of the data is as follows:\n",
        "> \n",
        "> * test data: 20%\n",
        "> * training data: 64%\n",
        "> * validation data: 16%"
      ]
    },
    {
      "cell_type": "code",
      "metadata": {
        "trusted": true,
        "id": "koEH_Jp-i8XY",
        "colab_type": "code",
        "colab": {}
      },
      "source": [
        "trainNvalid, test=train_test_split(df_input_crop, test_size=0.2)"
      ],
      "execution_count": 0,
      "outputs": []
    },
    {
      "cell_type": "code",
      "metadata": {
        "trusted": true,
        "id": "gMBOds68i8Xc",
        "colab_type": "code",
        "colab": {}
      },
      "source": [
        "train, valid=train_test_split(trainNvalid, test_size=0.2)"
      ],
      "execution_count": 0,
      "outputs": []
    },
    {
      "cell_type": "code",
      "metadata": {
        "trusted": true,
        "id": "w704LTR6i8Xg",
        "colab_type": "code",
        "colab": {}
      },
      "source": [
        "# formatting data such that it can be easily fed into model\n",
        "data_classified= TextClasDataBunch.from_df(fastai_path, train, valid, test_df=test, vocab= input_data.train_ds.vocab, text_cols='text', label_cols='airline_sentiment', bs=32)"
      ],
      "execution_count": 0,
      "outputs": []
    },
    {
      "cell_type": "code",
      "metadata": {
        "trusted": true,
        "id": "R5chIGRni8Xj",
        "colab_type": "code",
        "outputId": "f8e68d4b-5c2f-4437-a765-3039cfacbc45",
        "colab": {
          "base_uri": "https://localhost:8080/",
          "height": 271
        }
      },
      "source": [
        "data_classified.show_batch()"
      ],
      "execution_count": 0,
      "outputs": [
        {
          "output_type": "display_data",
          "data": {
            "text/html": [
              "<table border=\"1\" class=\"dataframe\">\n",
              "  <thead>\n",
              "    <tr style=\"text-align: right;\">\n",
              "      <th>text</th>\n",
              "      <th>target</th>\n",
              "    </tr>\n",
              "  </thead>\n",
              "  <tbody>\n",
              "    <tr>\n",
              "      <td>xxbos @airline xxmaj hi have a question re future xxmaj flight xxmaj booking xxmaj problems . xxup dub - xxup jac 29 / 9 xxup jac - xxup lax 8 / 10 xxup lax - xxup dub 13 / 10 . i 'm * xxup g. xxmaj what is checked bag allowance for xxup jac - xxup lax ?</td>\n",
              "      <td>neutral</td>\n",
              "    </tr>\n",
              "    <tr>\n",
              "      <td>xxbos @airline xxmaj the xxmaj fact xxmaj that u xxmaj see xxmaj black xxmaj history xxmaj month 12 xxmaj months a xxmaj year xxmaj is xxmaj xxunk ! xxmaj we xxup will xxup be xxmaj an xxmaj xxunk xxmaj base xxmaj for xxmaj corp. xxmaj like u xxmaj in xxmaj future !</td>\n",
              "      <td>positive</td>\n",
              "    </tr>\n",
              "    <tr>\n",
              "      <td>xxbos @airline xxmaj hey , xxup aa ! xxmaj there was a mistake made by your xxup cr on my xxmaj flight xxmaj booking xxmaj problems . xxmaj when i call your reservations # , i keep getting hung up on . xxmaj advise .</td>\n",
              "      <td>negative</td>\n",
              "    </tr>\n",
              "    <tr>\n",
              "      <td>xxbos @airline xxmaj flight 136 departs xxunk xxup am xxmaj finally ! ! ! xxmaj arrived xxup jfk with no xxunk at xxunk xxup pm . xxmaj that 's a long flight . xxup aka xxup bus http : / / t.co / xxunk</td>\n",
              "      <td>negative</td>\n",
              "    </tr>\n",
              "    <tr>\n",
              "      <td>xxbos @airline xxmaj customer service is dead . xxmaj last wk , flts delayed / xxmaj cancelled xxmaj flighted . xxmaj bags lost 4 days . xxmaj last nt , flt delayed / xxmaj cancelled xxmaj flighted . xxmaj no meal voucher ?</td>\n",
              "      <td>negative</td>\n",
              "    </tr>\n",
              "  </tbody>\n",
              "</table>"
            ],
            "text/plain": [
              "<IPython.core.display.HTML object>"
            ]
          },
          "metadata": {
            "tags": []
          }
        }
      ]
    },
    {
      "cell_type": "code",
      "metadata": {
        "trusted": true,
        "id": "7WTvpfari8Xl",
        "colab_type": "code",
        "colab": {}
      },
      "source": [
        "# updating our model learn_process with classifier tuning\n",
        "learn_process=text_classifier_learner(data_classified, AWD_LSTM, drop_mult=0.5)"
      ],
      "execution_count": 0,
      "outputs": []
    },
    {
      "cell_type": "code",
      "metadata": {
        "trusted": true,
        "id": "0I68nFtAi8Xn",
        "colab_type": "code",
        "outputId": "e6a2329f-0a7f-4772-bda5-454742b4d556",
        "colab": {
          "base_uri": "https://localhost:8080/",
          "height": 1000
        }
      },
      "source": [
        "learn_process.load_encoder('encoder')"
      ],
      "execution_count": 0,
      "outputs": [
        {
          "output_type": "execute_result",
          "data": {
            "text/plain": [
              "RNNLearner(data=TextClasDataBunch;\n",
              "\n",
              "Train: LabelList (9369 items)\n",
              "x: TextList\n",
              "xxbos @airline a - list preferred . xxup den - xxup dal flight xxmaj cancelled xxmaj flightled 30 min prior to boarding . xxmaj best option was xxmaj tue afternoon . xxmaj seriously ? ! ? xxmaj epic fail .,xxbos @airline your definition and mine of 10 min is xxunk different . i understand the need to get off the plane for maint , but be honest .,xxbos @airline xxmaj male xxunk in xxup las threatens xxmaj canadian cust when cust takes pic of him at gate after agents announce ca n't help rebook . # friendlyskies ?,xxbos @airline help , left expensive headphones on flight 89 xxup iad to xxup lax today . xxmaj seat xxup xxunk xxmaj no one answering xxup xxunk number at xxup lax !,xxbos @airline flight 1181 out of xxmaj vegas to xxup dfw . xxmaj cancelled xxmaj flightled xxmaj sunday and xxmaj monday , no whammie today !\n",
              "y: CategoryList\n",
              "negative,negative,negative,negative,negative\n",
              "Path: /content;\n",
              "\n",
              "Valid: LabelList (2343 items)\n",
              "x: TextList\n",
              "xxbos @airline you are horrendous . xxmaj pull your shit together,xxbos @airline xxmaj our non - profit xxup xxunk would love tickets as we rely on airlines for xxunk in saving xxunk children and returning them xxmaj home !,xxbos @airline i never got an email confirmation for my ticket , but the credit card was charged . xxmaj phone wait time is crazy . xxmaj is there a chat ?,xxbos xxup ya xxrep 5 s . xxmaj xxunk xxmaj xxunk xxup rt @airline : xxmaj our fleet 's on fleek . http : / / t.co / xxunk,xxbos @airline sat on a plane for 2 + hrs on 2 / 15 ! xxmaj then we finally took off .. :(\n",
              "y: CategoryList\n",
              "negative,neutral,negative,neutral,negative\n",
              "Path: /content;\n",
              "\n",
              "Test: LabelList (2928 items)\n",
              "x: TextList\n",
              "xxbos @airline xxmaj name correct on original confirmation but xxunk wrong on check - in reminder . xxmaj first name and xxup mi run together . xxmaj cause for concern ?,xxbos @airline hi yes need a free hotel stay in xxmaj xxunk due to 4 hour xxunk , since we will miss our second flight to xxmaj xxunk,xxbos @airline got it wish they would communicate more w us,xxbos @airline but the gate agent and club staff got me priority standby for next so might only be minor disaster ... # xxunk,xxbos @airline xxmaj airline trouble this winter & & not getting good customer service ? contact http : / / t.co / aqjn4hwnac we negotiate resolutions for xxmaj you !\n",
              "y: EmptyLabelList\n",
              ",,,,\n",
              "Path: /content, model=SequentialRNN(\n",
              "  (0): MultiBatchEncoder(\n",
              "    (module): AWD_LSTM(\n",
              "      (encoder): Embedding(5816, 400, padding_idx=1)\n",
              "      (encoder_dp): EmbeddingDropout(\n",
              "        (emb): Embedding(5816, 400, padding_idx=1)\n",
              "      )\n",
              "      (rnns): ModuleList(\n",
              "        (0): WeightDropout(\n",
              "          (module): LSTM(400, 1152, batch_first=True)\n",
              "        )\n",
              "        (1): WeightDropout(\n",
              "          (module): LSTM(1152, 1152, batch_first=True)\n",
              "        )\n",
              "        (2): WeightDropout(\n",
              "          (module): LSTM(1152, 400, batch_first=True)\n",
              "        )\n",
              "      )\n",
              "      (input_dp): RNNDropout()\n",
              "      (hidden_dps): ModuleList(\n",
              "        (0): RNNDropout()\n",
              "        (1): RNNDropout()\n",
              "        (2): RNNDropout()\n",
              "      )\n",
              "    )\n",
              "  )\n",
              "  (1): PoolingLinearClassifier(\n",
              "    (layers): Sequential(\n",
              "      (0): BatchNorm1d(1200, eps=1e-05, momentum=0.1, affine=True, track_running_stats=True)\n",
              "      (1): Dropout(p=0.2, inplace=False)\n",
              "      (2): Linear(in_features=1200, out_features=50, bias=True)\n",
              "      (3): ReLU(inplace=True)\n",
              "      (4): BatchNorm1d(50, eps=1e-05, momentum=0.1, affine=True, track_running_stats=True)\n",
              "      (5): Dropout(p=0.1, inplace=False)\n",
              "      (6): Linear(in_features=50, out_features=3, bias=True)\n",
              "    )\n",
              "  )\n",
              "), opt_func=functools.partial(<class 'torch.optim.adam.Adam'>, betas=(0.9, 0.99)), loss_func=FlattenedLoss of CrossEntropyLoss(), metrics=[<function accuracy at 0x7fa3befe3f28>], true_wd=True, bn_wd=True, wd=0.01, train_bn=True, path=PosixPath('/content'), model_dir='models', callback_fns=[functools.partial(<class 'fastai.basic_train.Recorder'>, add_time=True, silent=False)], callbacks=[RNNTrainer\n",
              "learn: RNNLearner(data=TextClasDataBunch;\n",
              "\n",
              "Train: LabelList (9369 items)\n",
              "x: TextList\n",
              "xxbos @airline a - list preferred . xxup den - xxup dal flight xxmaj cancelled xxmaj flightled 30 min prior to boarding . xxmaj best option was xxmaj tue afternoon . xxmaj seriously ? ! ? xxmaj epic fail .,xxbos @airline your definition and mine of 10 min is xxunk different . i understand the need to get off the plane for maint , but be honest .,xxbos @airline xxmaj male xxunk in xxup las threatens xxmaj canadian cust when cust takes pic of him at gate after agents announce ca n't help rebook . # friendlyskies ?,xxbos @airline help , left expensive headphones on flight 89 xxup iad to xxup lax today . xxmaj seat xxup xxunk xxmaj no one answering xxup xxunk number at xxup lax !,xxbos @airline flight 1181 out of xxmaj vegas to xxup dfw . xxmaj cancelled xxmaj flightled xxmaj sunday and xxmaj monday , no whammie today !\n",
              "y: CategoryList\n",
              "negative,negative,negative,negative,negative\n",
              "Path: /content;\n",
              "\n",
              "Valid: LabelList (2343 items)\n",
              "x: TextList\n",
              "xxbos @airline you are horrendous . xxmaj pull your shit together,xxbos @airline xxmaj our non - profit xxup xxunk would love tickets as we rely on airlines for xxunk in saving xxunk children and returning them xxmaj home !,xxbos @airline i never got an email confirmation for my ticket , but the credit card was charged . xxmaj phone wait time is crazy . xxmaj is there a chat ?,xxbos xxup ya xxrep 5 s . xxmaj xxunk xxmaj xxunk xxup rt @airline : xxmaj our fleet 's on fleek . http : / / t.co / xxunk,xxbos @airline sat on a plane for 2 + hrs on 2 / 15 ! xxmaj then we finally took off .. :(\n",
              "y: CategoryList\n",
              "negative,neutral,negative,neutral,negative\n",
              "Path: /content;\n",
              "\n",
              "Test: LabelList (2928 items)\n",
              "x: TextList\n",
              "xxbos @airline xxmaj name correct on original confirmation but xxunk wrong on check - in reminder . xxmaj first name and xxup mi run together . xxmaj cause for concern ?,xxbos @airline hi yes need a free hotel stay in xxmaj xxunk due to 4 hour xxunk , since we will miss our second flight to xxmaj xxunk,xxbos @airline got it wish they would communicate more w us,xxbos @airline but the gate agent and club staff got me priority standby for next so might only be minor disaster ... # xxunk,xxbos @airline xxmaj airline trouble this winter & & not getting good customer service ? contact http : / / t.co / aqjn4hwnac we negotiate resolutions for xxmaj you !\n",
              "y: EmptyLabelList\n",
              ",,,,\n",
              "Path: /content, model=SequentialRNN(\n",
              "  (0): MultiBatchEncoder(\n",
              "    (module): AWD_LSTM(\n",
              "      (encoder): Embedding(5816, 400, padding_idx=1)\n",
              "      (encoder_dp): EmbeddingDropout(\n",
              "        (emb): Embedding(5816, 400, padding_idx=1)\n",
              "      )\n",
              "      (rnns): ModuleList(\n",
              "        (0): WeightDropout(\n",
              "          (module): LSTM(400, 1152, batch_first=True)\n",
              "        )\n",
              "        (1): WeightDropout(\n",
              "          (module): LSTM(1152, 1152, batch_first=True)\n",
              "        )\n",
              "        (2): WeightDropout(\n",
              "          (module): LSTM(1152, 400, batch_first=True)\n",
              "        )\n",
              "      )\n",
              "      (input_dp): RNNDropout()\n",
              "      (hidden_dps): ModuleList(\n",
              "        (0): RNNDropout()\n",
              "        (1): RNNDropout()\n",
              "        (2): RNNDropout()\n",
              "      )\n",
              "    )\n",
              "  )\n",
              "  (1): PoolingLinearClassifier(\n",
              "    (layers): Sequential(\n",
              "      (0): BatchNorm1d(1200, eps=1e-05, momentum=0.1, affine=True, track_running_stats=True)\n",
              "      (1): Dropout(p=0.2, inplace=False)\n",
              "      (2): Linear(in_features=1200, out_features=50, bias=True)\n",
              "      (3): ReLU(inplace=True)\n",
              "      (4): BatchNorm1d(50, eps=1e-05, momentum=0.1, affine=True, track_running_stats=True)\n",
              "      (5): Dropout(p=0.1, inplace=False)\n",
              "      (6): Linear(in_features=50, out_features=3, bias=True)\n",
              "    )\n",
              "  )\n",
              "), opt_func=functools.partial(<class 'torch.optim.adam.Adam'>, betas=(0.9, 0.99)), loss_func=FlattenedLoss of CrossEntropyLoss(), metrics=[<function accuracy at 0x7fa3befe3f28>], true_wd=True, bn_wd=True, wd=0.01, train_bn=True, path=PosixPath('/content'), model_dir='models', callback_fns=[functools.partial(<class 'fastai.basic_train.Recorder'>, add_time=True, silent=False)], callbacks=[...], layer_groups=[Sequential(\n",
              "  (0): Embedding(5816, 400, padding_idx=1)\n",
              "  (1): EmbeddingDropout(\n",
              "    (emb): Embedding(5816, 400, padding_idx=1)\n",
              "  )\n",
              "), Sequential(\n",
              "  (0): WeightDropout(\n",
              "    (module): LSTM(400, 1152, batch_first=True)\n",
              "  )\n",
              "  (1): RNNDropout()\n",
              "), Sequential(\n",
              "  (0): WeightDropout(\n",
              "    (module): LSTM(1152, 1152, batch_first=True)\n",
              "  )\n",
              "  (1): RNNDropout()\n",
              "), Sequential(\n",
              "  (0): WeightDropout(\n",
              "    (module): LSTM(1152, 400, batch_first=True)\n",
              "  )\n",
              "  (1): RNNDropout()\n",
              "), Sequential(\n",
              "  (0): PoolingLinearClassifier(\n",
              "    (layers): Sequential(\n",
              "      (0): BatchNorm1d(1200, eps=1e-05, momentum=0.1, affine=True, track_running_stats=True)\n",
              "      (1): Dropout(p=0.2, inplace=False)\n",
              "      (2): Linear(in_features=1200, out_features=50, bias=True)\n",
              "      (3): ReLU(inplace=True)\n",
              "      (4): BatchNorm1d(50, eps=1e-05, momentum=0.1, affine=True, track_running_stats=True)\n",
              "      (5): Dropout(p=0.1, inplace=False)\n",
              "      (6): Linear(in_features=50, out_features=3, bias=True)\n",
              "    )\n",
              "  )\n",
              ")], add_time=True, silent=False)\n",
              "alpha: 2.0\n",
              "beta: 1.0], layer_groups=[Sequential(\n",
              "  (0): Embedding(5816, 400, padding_idx=1)\n",
              "  (1): EmbeddingDropout(\n",
              "    (emb): Embedding(5816, 400, padding_idx=1)\n",
              "  )\n",
              "), Sequential(\n",
              "  (0): WeightDropout(\n",
              "    (module): LSTM(400, 1152, batch_first=True)\n",
              "  )\n",
              "  (1): RNNDropout()\n",
              "), Sequential(\n",
              "  (0): WeightDropout(\n",
              "    (module): LSTM(1152, 1152, batch_first=True)\n",
              "  )\n",
              "  (1): RNNDropout()\n",
              "), Sequential(\n",
              "  (0): WeightDropout(\n",
              "    (module): LSTM(1152, 400, batch_first=True)\n",
              "  )\n",
              "  (1): RNNDropout()\n",
              "), Sequential(\n",
              "  (0): PoolingLinearClassifier(\n",
              "    (layers): Sequential(\n",
              "      (0): BatchNorm1d(1200, eps=1e-05, momentum=0.1, affine=True, track_running_stats=True)\n",
              "      (1): Dropout(p=0.2, inplace=False)\n",
              "      (2): Linear(in_features=1200, out_features=50, bias=True)\n",
              "      (3): ReLU(inplace=True)\n",
              "      (4): BatchNorm1d(50, eps=1e-05, momentum=0.1, affine=True, track_running_stats=True)\n",
              "      (5): Dropout(p=0.1, inplace=False)\n",
              "      (6): Linear(in_features=50, out_features=3, bias=True)\n",
              "    )\n",
              "  )\n",
              ")], add_time=True, silent=False)"
            ]
          },
          "metadata": {
            "tags": []
          },
          "execution_count": 90
        }
      ]
    },
    {
      "cell_type": "code",
      "metadata": {
        "trusted": true,
        "id": "tlV8DUbRi8Xp",
        "colab_type": "code",
        "outputId": "8bb70362-2cdb-4338-d3f5-c92904f2f632",
        "colab": {
          "base_uri": "https://localhost:8080/",
          "height": 297
        }
      },
      "source": [
        "# freeze all layers before unfreezing gradually in the following step\n",
        "learn_process.freeze()\n",
        "learn_process.lr_find()\n",
        "learn_process.recorder.plot()"
      ],
      "execution_count": 0,
      "outputs": [
        {
          "output_type": "display_data",
          "data": {
            "text/html": [
              ""
            ],
            "text/plain": [
              "<IPython.core.display.HTML object>"
            ]
          },
          "metadata": {
            "tags": []
          }
        },
        {
          "output_type": "stream",
          "text": [
            "LR Finder is complete, type {learner_name}.recorder.plot() to see the graph.\n"
          ],
          "name": "stdout"
        },
        {
          "output_type": "display_data",
          "data": {
            "image/png": "[encoded data removed]",
            "text/plain": [
              "<Figure size 432x288 with 1 Axes>"
            ]
          },
          "metadata": {
            "tags": []
          }
        }
      ]
    },
    {
      "cell_type": "code",
      "metadata": {
        "trusted": true,
        "id": "JA06c23Ri8Xq",
        "colab_type": "code",
        "outputId": "875bdc96-f2e8-4e48-9e2d-e28bdd6eb3e6",
        "colab": {
          "base_uri": "https://localhost:8080/",
          "height": 79
        }
      },
      "source": [
        "# 3e-01/10\n",
        "lr=3.0E-02\n",
        "learn_process.fit_one_cycle(1,lr,moms=moms, wd=wd)"
      ],
      "execution_count": 0,
      "outputs": [
        {
          "output_type": "display_data",
          "data": {
            "text/html": [
              "<table border=\"1\" class=\"dataframe\">\n",
              "  <thead>\n",
              "    <tr style=\"text-align: left;\">\n",
              "      <th>epoch</th>\n",
              "      <th>train_loss</th>\n",
              "      <th>valid_loss</th>\n",
              "      <th>accuracy</th>\n",
              "      <th>time</th>\n",
              "    </tr>\n",
              "  </thead>\n",
              "  <tbody>\n",
              "    <tr>\n",
              "      <td>0</td>\n",
              "      <td>0.692450</td>\n",
              "      <td>0.602542</td>\n",
              "      <td>0.752027</td>\n",
              "      <td>00:05</td>\n",
              "    </tr>\n",
              "  </tbody>\n",
              "</table>"
            ],
            "text/plain": [
              "<IPython.core.display.HTML object>"
            ]
          },
          "metadata": {
            "tags": []
          }
        }
      ]
    },
    {
      "cell_type": "code",
      "metadata": {
        "trusted": true,
        "id": "x2wiJ9Z1i8Xr",
        "colab_type": "code",
        "outputId": "98b458b4-3113-42e1-eb68-8af5f39c7f1c",
        "colab": {
          "base_uri": "https://localhost:8080/",
          "height": 79
        }
      },
      "source": [
        "# here we begin the gradual unfreezing strategy where we unfreeze layer by layer in a cumulative fashion\n",
        "learn_process.freeze_to(-2)\n",
        "lr/=2\n",
        "# 2.6 was found be an optimal factor from experimentation (Howard and Ruder)\n",
        "learn_process.fit_one_cycle(1, slice(lr/(2.6**4),lr),moms=moms, wd=wd)"
      ],
      "execution_count": 0,
      "outputs": [
        {
          "output_type": "display_data",
          "data": {
            "text/html": [
              "<table border=\"1\" class=\"dataframe\">\n",
              "  <thead>\n",
              "    <tr style=\"text-align: left;\">\n",
              "      <th>epoch</th>\n",
              "      <th>train_loss</th>\n",
              "      <th>valid_loss</th>\n",
              "      <th>accuracy</th>\n",
              "      <th>time</th>\n",
              "    </tr>\n",
              "  </thead>\n",
              "  <tbody>\n",
              "    <tr>\n",
              "      <td>0</td>\n",
              "      <td>0.662499</td>\n",
              "      <td>0.534211</td>\n",
              "      <td>0.791720</td>\n",
              "      <td>00:06</td>\n",
              "    </tr>\n",
              "  </tbody>\n",
              "</table>"
            ],
            "text/plain": [
              "<IPython.core.display.HTML object>"
            ]
          },
          "metadata": {
            "tags": []
          }
        }
      ]
    },
    {
      "cell_type": "code",
      "metadata": {
        "trusted": true,
        "id": "so2rm7Cii8Xt",
        "colab_type": "code",
        "outputId": "61a0ccb4-63e3-4e45-ead5-66d94d57fbed",
        "colab": {
          "base_uri": "https://localhost:8080/",
          "height": 79
        }
      },
      "source": [
        "learn_process.freeze_to(-3)\n",
        "lr/=2\n",
        "learn_process.fit_one_cycle(1, slice(lr/(2.6**4),lr),moms=moms, wd=wd)"
      ],
      "execution_count": 0,
      "outputs": [
        {
          "output_type": "display_data",
          "data": {
            "text/html": [
              "<table border=\"1\" class=\"dataframe\">\n",
              "  <thead>\n",
              "    <tr style=\"text-align: left;\">\n",
              "      <th>epoch</th>\n",
              "      <th>train_loss</th>\n",
              "      <th>valid_loss</th>\n",
              "      <th>accuracy</th>\n",
              "      <th>time</th>\n",
              "    </tr>\n",
              "  </thead>\n",
              "  <tbody>\n",
              "    <tr>\n",
              "      <td>0</td>\n",
              "      <td>0.615240</td>\n",
              "      <td>0.490167</td>\n",
              "      <td>0.810926</td>\n",
              "      <td>00:09</td>\n",
              "    </tr>\n",
              "  </tbody>\n",
              "</table>"
            ],
            "text/plain": [
              "<IPython.core.display.HTML object>"
            ]
          },
          "metadata": {
            "tags": []
          }
        }
      ]
    },
    {
      "cell_type": "code",
      "metadata": {
        "trusted": true,
        "id": "FyiSQJwui8Xu",
        "colab_type": "code",
        "colab": {}
      },
      "source": [
        "#unfreeze all layers \n",
        "learn_process.unfreeze()"
      ],
      "execution_count": 0,
      "outputs": []
    },
    {
      "cell_type": "code",
      "metadata": {
        "trusted": true,
        "id": "ZpmPfeYgi8Xw",
        "colab_type": "code",
        "outputId": "7d70d53d-e9d3-4b88-bc8d-333ae65d7e2c",
        "colab": {
          "base_uri": "https://localhost:8080/",
          "height": 141
        }
      },
      "source": [
        "lr/=5\n",
        "learn_process.fit_one_cycle(3, slice(lr/(2.6**4),lr), moms=moms, wd=wd)"
      ],
      "execution_count": 0,
      "outputs": [
        {
          "output_type": "display_data",
          "data": {
            "text/html": [
              "<table border=\"1\" class=\"dataframe\">\n",
              "  <thead>\n",
              "    <tr style=\"text-align: left;\">\n",
              "      <th>epoch</th>\n",
              "      <th>train_loss</th>\n",
              "      <th>valid_loss</th>\n",
              "      <th>accuracy</th>\n",
              "      <th>time</th>\n",
              "    </tr>\n",
              "  </thead>\n",
              "  <tbody>\n",
              "    <tr>\n",
              "      <td>0</td>\n",
              "      <td>0.530574</td>\n",
              "      <td>0.474604</td>\n",
              "      <td>0.819462</td>\n",
              "      <td>00:11</td>\n",
              "    </tr>\n",
              "    <tr>\n",
              "      <td>1</td>\n",
              "      <td>0.484834</td>\n",
              "      <td>0.473813</td>\n",
              "      <td>0.813487</td>\n",
              "      <td>00:11</td>\n",
              "    </tr>\n",
              "    <tr>\n",
              "      <td>2</td>\n",
              "      <td>0.400410</td>\n",
              "      <td>0.474223</td>\n",
              "      <td>0.813487</td>\n",
              "      <td>00:11</td>\n",
              "    </tr>\n",
              "  </tbody>\n",
              "</table>"
            ],
            "text/plain": [
              "<IPython.core.display.HTML object>"
            ]
          },
          "metadata": {
            "tags": []
          }
        }
      ]
    },
    {
      "cell_type": "code",
      "metadata": {
        "trusted": true,
        "id": "0fOyxYMCi8Xz",
        "colab_type": "code",
        "outputId": "f4df9237-2c9b-4c07-861f-ea0b0ae74321",
        "colab": {
          "base_uri": "https://localhost:8080/",
          "height": 35
        }
      },
      "source": [
        "#an example of the model predicting a review \n",
        "learn_process.predict('quite a good experience, not perfect tho')\n",
        "\n",
        "# end of model development"
      ],
      "execution_count": 0,
      "outputs": [
        {
          "output_type": "execute_result",
          "data": {
            "text/plain": [
              "(Category negative, tensor(0), tensor([0.7257, 0.0660, 0.2084]))"
            ]
          },
          "metadata": {
            "tags": []
          },
          "execution_count": 97
        }
      ]
    },
    {
      "cell_type": "markdown",
      "metadata": {
        "id": "qm0T4GoYi8X0",
        "colab_type": "text"
      },
      "source": [
        "### *Section 6. Results*\n",
        "\n",
        "> With the prediction example, we have wrapped up our model development. We have come to the climax of our learning journey: results.\n",
        "> The test accuracy is known to be the golden value that all models aim to break the record for.\n",
        "> However, we will be going the extra mile here to understand the different aspects of performance of our model.\n",
        "> We start by identifying the test accuracy. Followed by that, we will create a confusion matrix.\n"
      ]
    },
    {
      "cell_type": "code",
      "metadata": {
        "trusted": true,
        "id": "2vFoczsTi8X1",
        "colab_type": "code",
        "outputId": "f3ef4677-8135-48b6-abb8-139a9816dfcb",
        "colab": {
          "base_uri": "https://localhost:8080/",
          "height": 35
        }
      },
      "source": [
        "# test acc\n",
        "\n",
        "vals=TextClassificationInterpretation.from_learner(learn_process)\n",
        "test_acc=accuracy(vals.preds,vals.y_true)\n",
        "print('Test acc is-',test_acc)\n",
        "\n"
      ],
      "execution_count": 0,
      "outputs": [
        {
          "output_type": "stream",
          "text": [
            "Test acc is- tensor(0.8135)\n"
          ],
          "name": "stdout"
        }
      ]
    },
    {
      "cell_type": "code",
      "metadata": {
        "trusted": true,
        "id": "FdaNx4jli8X2",
        "colab_type": "code",
        "outputId": "820d959e-324b-49c9-fe73-c5d465966205",
        "colab": {
          "base_uri": "https://localhost:8080/",
          "height": 311
        }
      },
      "source": [
        "#confusion matrix, normalised to show accuracies for better understanding\n",
        "vals.plot_confusion_matrix(normalize=True)"
      ],
      "execution_count": 0,
      "outputs": [
        {
          "output_type": "display_data",
          "data": {
            "image/png": "[encoded data removed]",
            "text/plain": [
              "<Figure size 432x288 with 1 Axes>"
            ]
          },
          "metadata": {
            "tags": []
          }
        }
      ]
    },
    {
      "cell_type": "markdown",
      "metadata": {
        "id": "v3egPGQwi8X4",
        "colab_type": "text"
      },
      "source": [
        "> The confusion matrix shows the overlap between the actual and predicted results. The values in each row should some up to 1.\n",
        "> As shown above, we have achieved 89% accuracy on identifying negative reviews, 80% for positive and 61% for neutral.\n",
        "> Thus our model needs to improve the most on identifying neutral tweets. It seems that the model is classifying a significant amount of neutral tweets, 28%, as negative tweets. \n",
        "> A reason for this could be the sentiment class imbalance identified in the beginning."
      ]
    },
    {
      "cell_type": "markdown",
      "metadata": {
        "id": "FKMdE59Ci8X4",
        "colab_type": "text"
      },
      "source": [
        "### *Section 7. Future Improvements*\n",
        "\n",
        "> This model can be improved in the following 3 ways I have identified below:\n",
        ">     1. The sentiment class imbalance problem can be solved by having the same number of examples for each sentiment. We can see if there is an improvement in the neutral class' accuracy.\n",
        ">     2. Recently, Google published a paper on BERT which is a bidirectional transformer for language understanding. A key feature of BERT was that is works bidirectionally on the input sentences. In other words, it predicts both the preceeding and succeeding words. That way, the context can be captured in a much better way\n",
        ">     3. Last but not least, we can try training 3 separate models:\n",
        ">             *     positive and negative data\n",
        ">             *     positive and neutral data\n",
        ">             *     neutral and negative data\n",
        ">         Then, we can create an ensemble of all the 3 models. That way, we may be able to achieve higher accuracies on each sentiment class and the model will be able to distinguish among the 3 classes to a greater extent\n",
        "\n",
        "\n",
        " "
      ]
    },
    {
      "cell_type": "markdown",
      "metadata": {
        "id": "P-DA6S2li8X5",
        "colab_type": "text"
      },
      "source": [
        "### *Section 8. Conclusion*\n",
        "\n",
        ">  My aim for this notebook was to introduce the different aspects of developing the ULMFiT model for classifying airline tweets. I hope that beginners in deep learning and NLP will find this helpful and inspire them to improve this model by delving into more detail. I highly encourage readers to read more NLP papers such as BERT and XLNet which give both a good introduction to the capabilities of NLP and have a proper lead-in to the more advanced NLP concepts. A possible immediate step will be to try applying ULMFiT to another problem space such as Question Answering. I have listed the resources I have used to create this notebook in the following section. Please refer to them to delve deeper into ULMFiT.\n",
        "> "
      ]
    },
    {
      "cell_type": "markdown",
      "metadata": {
        "id": "J-bBwSPji8X5",
        "colab_type": "text"
      },
      "source": [
        "*Section 9. References*\n",
        "\n",
        "> I have referred to the following resources and you may find them useful:\n",
        "> 1. fast.ai documentation on their fasi.ai library:  https://docs.fast.ai/training.html\n",
        "> 2. the ULMFiT babpe by Howard and Ruder et. al.: https://arxiv.org/pdf/1801.06146.pdf\n",
        "> 3. A through analysis of the current state transfer learning of NLP by Ruder: https://ruder.io/state-of-transfer-learning-in-nlp/\n",
        "> 4. A deep dive into 1cycle polcy by Gugger : https://sgugger.github.io/the-1cycle-policy.html\n",
        "> 5. A notebook on using ULMFiT for Russian language modelling: https://github.com/mamamot/Russian-ULMFit\n",
        "> \n",
        "> Thank you!\n",
        "\n",
        "\n",
        "                                                                        THE END"
      ]
    },
    {
      "cell_type": "markdown",
      "metadata": {
        "id": "IBUrSjc-lpSO",
        "colab_type": "text"
      },
      "source": [
        " --> I have added an extension (Appendix A: Post Credits) to the notebook on Kaggle:\n",
        "https://www.kaggle.com/ml00007/twitter-ulmfit/notebook?scriptVersionId=23284971\n",
        "\n",
        " I did not include it here as it was meant as it was meant to be an inspiration for readers of the Kaggle notebook to delve deeper into the possible improvements suggested"
      ]
    }
  ]
}